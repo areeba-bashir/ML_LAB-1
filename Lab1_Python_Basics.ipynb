{
 "cells": [
  {
   "cell_type": "markdown",
   "metadata": {},
   "source": [
    " 1.Basic Python Programming"
   ]
  },
  {
   "cell_type": "markdown",
   "metadata": {},
   "source": [
    "  1.1Variables and String Formatting"
   ]
  },
  {
   "cell_type": "code",
   "execution_count": 1,
   "metadata": {},
   "outputs": [
    {
     "name": "stdout",
     "output_type": "stream",
     "text": [
      "My name is John, and I am 25 years old.\n"
     ]
    }
   ],
   "source": [
    "\n",
    "name = \"John\"\n",
    "age = 25\n",
    "print(f\"My name is {name}, and I am {age} years old.\")\n"
   ]
  },
  {
   "cell_type": "markdown",
   "metadata": {},
   "source": [
    "1.2 Lists and Loops"
   ]
  },
  {
   "cell_type": "code",
   "execution_count": 2,
   "metadata": {},
   "outputs": [
    {
     "name": "stdout",
     "output_type": "stream",
     "text": [
      "Original list: ['apple', 'banana', 'cherry']\n",
      "\n",
      "Looping through fruits:\n",
      "I love apple\n",
      "I love banana\n",
      "I love cherry\n",
      "\n",
      "Uppercase fruits: ['APPLE', 'BANANA', 'CHERRY']\n"
     ]
    }
   ],
   "source": [
    "\n",
    "fruits = [\"apple\", \"banana\", \"cherry\"]\n",
    "print(\"Original list:\", fruits)\n",
    "\n",
    "# For loop example\n",
    "print(\"\\nLooping through fruits:\")\n",
    "for fruit in fruits:\n",
    "    print(f\"I love {fruit}\")\n",
    "\n",
    "# List comprehension example\n",
    "uppercase_fruits = [fruit.upper() for fruit in fruits]\n",
    "print(\"\\nUppercase fruits:\", uppercase_fruits)\n",
    "\n"
   ]
  },
  {
   "cell_type": "markdown",
   "metadata": {},
   "source": [
    "1.3Functions"
   ]
  },
  {
   "cell_type": "code",
   "execution_count": 3,
   "metadata": {},
   "outputs": [
    {
     "name": "stdout",
     "output_type": "stream",
     "text": [
      "Hello, Alice!\n",
      "Area of rectangle: 15\n"
     ]
    }
   ],
   "source": [
    "# Basic function definition\n",
    "def greet(name):\n",
    "    return f\"Hello, {name}!\"\n",
    "\n",
    "# Function with multiple parameters\n",
    "def calculate_area(length, width):\n",
    "    return length * width\n",
    "\n",
    "# Test the functions\n",
    "print(greet(\"Alice\"))\n",
    "print(f\"Area of rectangle: {calculate_area(5, 3)}\")\n"
   ]
  },
  {
   "cell_type": "markdown",
   "metadata": {},
   "source": [
    " 2.LAB TASKS"
   ]
  },
  {
   "cell_type": "markdown",
   "metadata": {},
   "source": [
    "TASK NO 1 FACTORIAL CALCULATOR"
   ]
  },
  {
   "cell_type": "code",
   "execution_count": 5,
   "metadata": {},
   "outputs": [
    {
     "name": "stdout",
     "output_type": "stream",
     "text": [
      "Factorial of 0 is: 1\n",
      "Factorial of 5 is: 120\n",
      "Factorial of 7 is: 5040\n"
     ]
    }
   ],
   "source": [
    "def calculate_factorial(n):\n",
    "    if n < 0:\n",
    "        return \"Factorial is not defined for negative numbers\"\n",
    "    if n == 0 or n == 1:\n",
    "        return 1\n",
    "    \n",
    "    result = 1\n",
    "    for i in range(2, n + 1):\n",
    "        result *= i\n",
    "    return result\n",
    "\n",
    "# Test the factorial function\n",
    "test_numbers = [0, 5, 7]\n",
    "for num in test_numbers:\n",
    "    print(f\"Factorial of {num} is: {calculate_factorial(num)}\")\n",
    "\n"
   ]
  },
  {
   "cell_type": "markdown",
   "metadata": {},
   "source": [
    "TASK NO 2 JSON FILE READ/WRITE"
   ]
  },
  {
   "cell_type": "code",
   "execution_count": 6,
   "metadata": {},
   "outputs": [
    {
     "name": "stdout",
     "output_type": "stream",
     "text": [
      "\n",
      "Data from JSON file:\n",
      "{\n",
      "  \"fruits\": [\n",
      "    \"apple\",\n",
      "    \"banana\",\n",
      "    \"orange\"\n",
      "  ],\n",
      "  \"vegetables\": [\n",
      "    \"carrot\",\n",
      "    \"broccoli\",\n",
      "    \"spinach\"\n",
      "  ],\n",
      "  \"prices\": {\n",
      "    \"apple\": 0.5,\n",
      "    \"banana\": 0.3,\n",
      "    \"orange\": 0.6\n",
      "  }\n",
      "}\n"
     ]
    }
   ],
   "source": [
    "import json\n",
    "\n",
    "# Create sample items list\n",
    "items = {\n",
    "    \"fruits\": [\"apple\", \"banana\", \"orange\"],\n",
    "    \"vegetables\": [\"carrot\", \"broccoli\", \"spinach\"],\n",
    "    \"prices\": {\n",
    "        \"apple\": 0.5,\n",
    "        \"banana\": 0.3,\n",
    "        \"orange\": 0.6\n",
    "    }\n",
    "}\n",
    "\n",
    "# Write to JSON file\n",
    "with open('items.json', 'w') as file:\n",
    "    json.dump(items, file, indent=4)\n",
    "\n",
    "# Read from JSON file\n",
    "with open('items.json', 'r') as file:\n",
    "    loaded_items = json.load(file)\n",
    "    print(\"\\nData from JSON file:\")\n",
    "    print(json.dumps(loaded_items, indent=2))"
   ]
  },
  {
   "cell_type": "markdown",
   "metadata": {},
   "source": [
    "TASK NO 3  Steps to Open and Execute a Notebook\n",
    "      "
   ]
  },
  {
   "cell_type": "markdown",
   "metadata": {},
   "source": [
    " 1.Starting Jupyter Notebook"
   ]
  },
  {
   "cell_type": "markdown",
   "metadata": {},
   "source": [
    "1. Open terminal/command prompt\n",
    "2. Navigate to your working directory\n",
    "3. Run command: jupyter notebook\n",
    "4. Wait for browser to open with Jupyter dashboard"
   ]
  },
  {
   "cell_type": "markdown",
   "metadata": {},
   "source": [
    "2.Creating a New Notebook"
   ]
  },
  {
   "cell_type": "markdown",
   "metadata": {},
   "source": [
    "1. Click \"New\" → \"Python 3\"\n",
    "2. Rename notebook by clicking \"Untitled\"\n",
    "3. Save notebook using Ctrl+S or File → Save"
   ]
  },
  {
   "cell_type": "markdown",
   "metadata": {},
   "source": [
    "3. Executing Code"
   ]
  },
  {
   "cell_type": "markdown",
   "metadata": {},
   "source": [
    "1. Type code in a cell\n",
    "2. Run cell using:\n",
    "   - Shift + Enter\n",
    "   - Run button in toolbar\n",
    "   - Cell → Run Cells menu option\n",
    "3. Output appears below the cell"
   ]
  }
 ],
 "metadata": {
  "kernelspec": {
   "display_name": "Python 3",
   "language": "python",
   "name": "python3"
  },
  "language_info": {
   "codemirror_mode": {
    "name": "ipython",
    "version": 3
   },
   "file_extension": ".py",
   "mimetype": "text/x-python",
   "name": "python",
   "nbconvert_exporter": "python",
   "pygments_lexer": "ipython3",
   "version": "3.13.1"
  }
 },
 "nbformat": 4,
 "nbformat_minor": 2
}
